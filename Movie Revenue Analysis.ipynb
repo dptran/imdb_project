{
 "cells": [
  {
   "cell_type": "markdown",
   "metadata": {},
   "source": [
    "# Top Earners in Movie Industry\n",
    "\n",
    "## Table of Contents\n",
    "\n",
    "<ul>\n",
    "    <li><a href=\"#intro\">Introduction</a></li>\n",
    "    <li><a href=\"#eda\">Exploratory Data Analysis</a></li>\n",
    "    <li><a href=\"#conclusion\">Conclusion</a></li>\n",
    "</ul>"
   ]
  },
  {
   "cell_type": "markdown",
   "metadata": {},
   "source": [
    "<a id=\"#intro\"></a>\n",
    "## Introduction\n",
    "\n",
    "> This analysis project is to be done using the imdb movie data. When the analysis is completed, you should be able to find the top 5 highest grossing directors, the top 5 highest grossing movie genres of all time, comparing the revenue of the highest grossing movies and which companies released the most movies. \n",
    "\n",
    "> There are 10 columns that will not be needed for the analysis. Use pandas to drop these columns. HINT: Only the columns pertaining to revenue will be needed.\n",
    "\n",
    "> To get you started, I've already placed the needed code for getting the packages and datafile that you will be using for the project. "
   ]
  },
  {
   "cell_type": "code",
   "execution_count": 2,
   "metadata": {},
   "outputs": [],
   "source": [
    "import pandas as pd\n",
    "import numpy as np\n",
    "\n",
    "%matplotlib inline\n",
    "import matplotlib.pyplot as plt"
   ]
  },
  {
   "cell_type": "code",
   "execution_count": 3,
   "metadata": {},
   "outputs": [],
   "source": [
    "df = pd.read_csv('imdb-movies.csv')"
   ]
  },
  {
   "cell_type": "markdown",
   "metadata": {},
   "source": [
    "### Drop columns without neccesary information and remove all records with no financial information -- Pay close attention to things that don't tell you anything regarding financial data"
   ]
  },
  {
   "cell_type": "code",
   "execution_count": 4,
   "metadata": {},
   "outputs": [],
   "source": [
    "analysis = df[['id', 'popularity', 'budget', 'revenue', 'runtime', 'vote_count', 'vote_average', 'release_year', 'budget_adj', 'revenue_adj']]"
   ]
  },
  {
   "cell_type": "code",
   "execution_count": 5,
   "metadata": {},
   "outputs": [
    {
     "name": "stdout",
     "output_type": "stream",
     "text": [
      "           id  popularity     budget     revenue  runtime  vote_count  \\\n",
      "0      135397   32.985763  150000000  1513528810      124        5562   \n",
      "1       76341   28.419936  150000000   378436354      120        6185   \n",
      "2      262500   13.112507  110000000   295238201      119        2480   \n",
      "3      140607   11.173104  200000000  2068178225      136        5292   \n",
      "4      168259    9.335014  190000000  1506249360      137        2947   \n",
      "...       ...         ...        ...         ...      ...         ...   \n",
      "10861      21    0.080598          0           0       95          11   \n",
      "10862   20379    0.065543          0           0      176          20   \n",
      "10863   39768    0.065141          0           0       94          11   \n",
      "10864   21449    0.064317          0           0       80          22   \n",
      "10865   22293    0.035919      19000           0       74          15   \n",
      "\n",
      "       vote_average  release_year    budget_adj   revenue_adj  \n",
      "0               6.5          2015  1.379999e+08  1.392446e+09  \n",
      "1               7.1          2015  1.379999e+08  3.481613e+08  \n",
      "2               6.3          2015  1.012000e+08  2.716190e+08  \n",
      "3               7.5          2015  1.839999e+08  1.902723e+09  \n",
      "4               7.3          2015  1.747999e+08  1.385749e+09  \n",
      "...             ...           ...           ...           ...  \n",
      "10861           7.4          1966  0.000000e+00  0.000000e+00  \n",
      "10862           5.7          1966  0.000000e+00  0.000000e+00  \n",
      "10863           6.5          1966  0.000000e+00  0.000000e+00  \n",
      "10864           5.4          1966  0.000000e+00  0.000000e+00  \n",
      "10865           1.5          1966  1.276423e+05  0.000000e+00  \n",
      "\n",
      "[10866 rows x 10 columns]\n"
     ]
    }
   ],
   "source": [
    "print(analysis)"
   ]
  },
  {
   "cell_type": "code",
   "execution_count": null,
   "metadata": {},
   "outputs": [],
   "source": []
  },
  {
   "cell_type": "markdown",
   "metadata": {},
   "source": [
    "### Data Cleaning"
   ]
  },
  {
   "cell_type": "code",
   "execution_count": 6,
   "metadata": {},
   "outputs": [
    {
     "data": {
      "text/html": [
       "<div>\n",
       "<style scoped>\n",
       "    .dataframe tbody tr th:only-of-type {\n",
       "        vertical-align: middle;\n",
       "    }\n",
       "\n",
       "    .dataframe tbody tr th {\n",
       "        vertical-align: top;\n",
       "    }\n",
       "\n",
       "    .dataframe thead th {\n",
       "        text-align: right;\n",
       "    }\n",
       "</style>\n",
       "<table border=\"1\" class=\"dataframe\">\n",
       "  <thead>\n",
       "    <tr style=\"text-align: right;\">\n",
       "      <th></th>\n",
       "      <th>id</th>\n",
       "      <th>imdb_id</th>\n",
       "      <th>popularity</th>\n",
       "      <th>budget</th>\n",
       "      <th>revenue</th>\n",
       "      <th>original_title</th>\n",
       "      <th>cast</th>\n",
       "      <th>homepage</th>\n",
       "      <th>director</th>\n",
       "      <th>tagline</th>\n",
       "      <th>...</th>\n",
       "      <th>overview</th>\n",
       "      <th>runtime</th>\n",
       "      <th>genres</th>\n",
       "      <th>production_companies</th>\n",
       "      <th>release_date</th>\n",
       "      <th>vote_count</th>\n",
       "      <th>vote_average</th>\n",
       "      <th>release_year</th>\n",
       "      <th>budget_adj</th>\n",
       "      <th>revenue_adj</th>\n",
       "    </tr>\n",
       "  </thead>\n",
       "  <tbody>\n",
       "    <tr>\n",
       "      <th>0</th>\n",
       "      <td>135397</td>\n",
       "      <td>tt0369610</td>\n",
       "      <td>32.985763</td>\n",
       "      <td>150000000</td>\n",
       "      <td>1513528810</td>\n",
       "      <td>Jurassic World</td>\n",
       "      <td>Chris Pratt|Bryce Dallas Howard|Irrfan Khan|Vi...</td>\n",
       "      <td>http://www.jurassicworld.com/</td>\n",
       "      <td>Colin Trevorrow</td>\n",
       "      <td>The park is open.</td>\n",
       "      <td>...</td>\n",
       "      <td>Twenty-two years after the events of Jurassic ...</td>\n",
       "      <td>124</td>\n",
       "      <td>Action|Adventure|Science Fiction|Thriller</td>\n",
       "      <td>Universal Studios|Amblin Entertainment|Legenda...</td>\n",
       "      <td>6/9/15</td>\n",
       "      <td>5562</td>\n",
       "      <td>6.5</td>\n",
       "      <td>2015</td>\n",
       "      <td>1.379999e+08</td>\n",
       "      <td>1.392446e+09</td>\n",
       "    </tr>\n",
       "    <tr>\n",
       "      <th>1</th>\n",
       "      <td>76341</td>\n",
       "      <td>tt1392190</td>\n",
       "      <td>28.419936</td>\n",
       "      <td>150000000</td>\n",
       "      <td>378436354</td>\n",
       "      <td>Mad Max: Fury Road</td>\n",
       "      <td>Tom Hardy|Charlize Theron|Hugh Keays-Byrne|Nic...</td>\n",
       "      <td>http://www.madmaxmovie.com/</td>\n",
       "      <td>George Miller</td>\n",
       "      <td>What a Lovely Day.</td>\n",
       "      <td>...</td>\n",
       "      <td>An apocalyptic story set in the furthest reach...</td>\n",
       "      <td>120</td>\n",
       "      <td>Action|Adventure|Science Fiction|Thriller</td>\n",
       "      <td>Village Roadshow Pictures|Kennedy Miller Produ...</td>\n",
       "      <td>5/13/15</td>\n",
       "      <td>6185</td>\n",
       "      <td>7.1</td>\n",
       "      <td>2015</td>\n",
       "      <td>1.379999e+08</td>\n",
       "      <td>3.481613e+08</td>\n",
       "    </tr>\n",
       "    <tr>\n",
       "      <th>2</th>\n",
       "      <td>262500</td>\n",
       "      <td>tt2908446</td>\n",
       "      <td>13.112507</td>\n",
       "      <td>110000000</td>\n",
       "      <td>295238201</td>\n",
       "      <td>Insurgent</td>\n",
       "      <td>Shailene Woodley|Theo James|Kate Winslet|Ansel...</td>\n",
       "      <td>http://www.thedivergentseries.movie/#insurgent</td>\n",
       "      <td>Robert Schwentke</td>\n",
       "      <td>One Choice Can Destroy You</td>\n",
       "      <td>...</td>\n",
       "      <td>Beatrice Prior must confront her inner demons ...</td>\n",
       "      <td>119</td>\n",
       "      <td>Adventure|Science Fiction|Thriller</td>\n",
       "      <td>Summit Entertainment|Mandeville Films|Red Wago...</td>\n",
       "      <td>3/18/15</td>\n",
       "      <td>2480</td>\n",
       "      <td>6.3</td>\n",
       "      <td>2015</td>\n",
       "      <td>1.012000e+08</td>\n",
       "      <td>2.716190e+08</td>\n",
       "    </tr>\n",
       "    <tr>\n",
       "      <th>3</th>\n",
       "      <td>140607</td>\n",
       "      <td>tt2488496</td>\n",
       "      <td>11.173104</td>\n",
       "      <td>200000000</td>\n",
       "      <td>2068178225</td>\n",
       "      <td>Star Wars: The Force Awakens</td>\n",
       "      <td>Harrison Ford|Mark Hamill|Carrie Fisher|Adam D...</td>\n",
       "      <td>http://www.starwars.com/films/star-wars-episod...</td>\n",
       "      <td>J.J. Abrams</td>\n",
       "      <td>Every generation has a story.</td>\n",
       "      <td>...</td>\n",
       "      <td>Thirty years after defeating the Galactic Empi...</td>\n",
       "      <td>136</td>\n",
       "      <td>Action|Adventure|Science Fiction|Fantasy</td>\n",
       "      <td>Lucasfilm|Truenorth Productions|Bad Robot</td>\n",
       "      <td>12/15/15</td>\n",
       "      <td>5292</td>\n",
       "      <td>7.5</td>\n",
       "      <td>2015</td>\n",
       "      <td>1.839999e+08</td>\n",
       "      <td>1.902723e+09</td>\n",
       "    </tr>\n",
       "    <tr>\n",
       "      <th>4</th>\n",
       "      <td>168259</td>\n",
       "      <td>tt2820852</td>\n",
       "      <td>9.335014</td>\n",
       "      <td>190000000</td>\n",
       "      <td>1506249360</td>\n",
       "      <td>Furious 7</td>\n",
       "      <td>Vin Diesel|Paul Walker|Jason Statham|Michelle ...</td>\n",
       "      <td>http://www.furious7.com/</td>\n",
       "      <td>James Wan</td>\n",
       "      <td>Vengeance Hits Home</td>\n",
       "      <td>...</td>\n",
       "      <td>Deckard Shaw seeks revenge against Dominic Tor...</td>\n",
       "      <td>137</td>\n",
       "      <td>Action|Crime|Thriller</td>\n",
       "      <td>Universal Pictures|Original Film|Media Rights ...</td>\n",
       "      <td>4/1/15</td>\n",
       "      <td>2947</td>\n",
       "      <td>7.3</td>\n",
       "      <td>2015</td>\n",
       "      <td>1.747999e+08</td>\n",
       "      <td>1.385749e+09</td>\n",
       "    </tr>\n",
       "    <tr>\n",
       "      <th>...</th>\n",
       "      <td>...</td>\n",
       "      <td>...</td>\n",
       "      <td>...</td>\n",
       "      <td>...</td>\n",
       "      <td>...</td>\n",
       "      <td>...</td>\n",
       "      <td>...</td>\n",
       "      <td>...</td>\n",
       "      <td>...</td>\n",
       "      <td>...</td>\n",
       "      <td>...</td>\n",
       "      <td>...</td>\n",
       "      <td>...</td>\n",
       "      <td>...</td>\n",
       "      <td>...</td>\n",
       "      <td>...</td>\n",
       "      <td>...</td>\n",
       "      <td>...</td>\n",
       "      <td>...</td>\n",
       "      <td>...</td>\n",
       "      <td>...</td>\n",
       "    </tr>\n",
       "    <tr>\n",
       "      <th>10724</th>\n",
       "      <td>668</td>\n",
       "      <td>tt0064757</td>\n",
       "      <td>1.778746</td>\n",
       "      <td>7000000</td>\n",
       "      <td>81974493</td>\n",
       "      <td>On Her Majesty's Secret Service</td>\n",
       "      <td>George Lazenby|Diana Rigg|Telly Savalas|Gabrie...</td>\n",
       "      <td>http://www.mgm.com/view/movie/1411/On-Her-Maje...</td>\n",
       "      <td>Peter R. Hunt</td>\n",
       "      <td>Far up! Far out! Far more! James Bond 007 is b...</td>\n",
       "      <td>...</td>\n",
       "      <td>James Bond tracks archnemesis Ernst Blofeld to...</td>\n",
       "      <td>142</td>\n",
       "      <td>Adventure|Action|Thriller</td>\n",
       "      <td>Eon Productions|Metro-Goldwyn-Mayer (MGM)|Danjaq</td>\n",
       "      <td>12/12/69</td>\n",
       "      <td>258</td>\n",
       "      <td>6.4</td>\n",
       "      <td>1969</td>\n",
       "      <td>4.160985e+07</td>\n",
       "      <td>4.872780e+08</td>\n",
       "    </tr>\n",
       "    <tr>\n",
       "      <th>10759</th>\n",
       "      <td>948</td>\n",
       "      <td>tt0077651</td>\n",
       "      <td>1.198849</td>\n",
       "      <td>300000</td>\n",
       "      <td>70000000</td>\n",
       "      <td>Halloween</td>\n",
       "      <td>Donald Pleasence|Jamie Lee Curtis|P.J. Soles|N...</td>\n",
       "      <td>http://www.theofficialjohncarpenter.com/hallow...</td>\n",
       "      <td>John Carpenter</td>\n",
       "      <td>The Night HE Came Home!</td>\n",
       "      <td>...</td>\n",
       "      <td>A psychotic murderer, institutionalized since ...</td>\n",
       "      <td>91</td>\n",
       "      <td>Horror|Thriller</td>\n",
       "      <td>Compass International Pictures|Falcon Internat...</td>\n",
       "      <td>10/25/78</td>\n",
       "      <td>522</td>\n",
       "      <td>7.3</td>\n",
       "      <td>1978</td>\n",
       "      <td>1.002810e+06</td>\n",
       "      <td>2.339890e+08</td>\n",
       "    </tr>\n",
       "    <tr>\n",
       "      <th>10760</th>\n",
       "      <td>8469</td>\n",
       "      <td>tt0077975</td>\n",
       "      <td>1.157930</td>\n",
       "      <td>2700000</td>\n",
       "      <td>141000000</td>\n",
       "      <td>Animal House</td>\n",
       "      <td>John Belushi|Tim Matheson|John Vernon|Verna Bl...</td>\n",
       "      <td>http://www.animalhouse.com/</td>\n",
       "      <td>John Landis</td>\n",
       "      <td>It was the Deltas against the rules... the rul...</td>\n",
       "      <td>...</td>\n",
       "      <td>At a 1962 College, Dean Vernon Wormer is deter...</td>\n",
       "      <td>109</td>\n",
       "      <td>Comedy</td>\n",
       "      <td>Universal Pictures|Oregon Film Factory|Stage I...</td>\n",
       "      <td>7/27/78</td>\n",
       "      <td>230</td>\n",
       "      <td>6.7</td>\n",
       "      <td>1978</td>\n",
       "      <td>9.025292e+06</td>\n",
       "      <td>4.713208e+08</td>\n",
       "    </tr>\n",
       "    <tr>\n",
       "      <th>10817</th>\n",
       "      <td>13963</td>\n",
       "      <td>tt0077838</td>\n",
       "      <td>0.064029</td>\n",
       "      <td>0</td>\n",
       "      <td>321952</td>\n",
       "      <td>The Last Waltz</td>\n",
       "      <td>Robbie Robertson|Rick Danko|Levon Helm|Richard...</td>\n",
       "      <td>http://www.mgm.com/#/our-titles/1092/The-Last-...</td>\n",
       "      <td>Martin Scorsese</td>\n",
       "      <td>It Started as a Concert. It Became a Celebration.</td>\n",
       "      <td>...</td>\n",
       "      <td>Martin Scorsese's rockumentary intertwines foo...</td>\n",
       "      <td>117</td>\n",
       "      <td>Documentary|Music</td>\n",
       "      <td>FM Productions|Last Waltz Inc.</td>\n",
       "      <td>5/1/78</td>\n",
       "      <td>33</td>\n",
       "      <td>8.0</td>\n",
       "      <td>1978</td>\n",
       "      <td>0.000000e+00</td>\n",
       "      <td>1.076189e+06</td>\n",
       "    </tr>\n",
       "    <tr>\n",
       "      <th>10819</th>\n",
       "      <td>16214</td>\n",
       "      <td>tt0077696</td>\n",
       "      <td>0.044675</td>\n",
       "      <td>0</td>\n",
       "      <td>78000000</td>\n",
       "      <td>Hooper</td>\n",
       "      <td>Burt Reynolds|Robert Klein|Adam West|Jan-Micha...</td>\n",
       "      <td>http://en.wikipedia.org/wiki/Hooper_(film)</td>\n",
       "      <td>Hal Needham</td>\n",
       "      <td>The greatest stuntman alive!</td>\n",
       "      <td>...</td>\n",
       "      <td>Burt Reynolds plays a legendary stunt man know...</td>\n",
       "      <td>107</td>\n",
       "      <td>Action|Comedy</td>\n",
       "      <td>Warner Bros.</td>\n",
       "      <td>7/28/78</td>\n",
       "      <td>13</td>\n",
       "      <td>6.0</td>\n",
       "      <td>1978</td>\n",
       "      <td>0.000000e+00</td>\n",
       "      <td>2.607307e+08</td>\n",
       "    </tr>\n",
       "  </tbody>\n",
       "</table>\n",
       "<p>1992 rows × 21 columns</p>\n",
       "</div>"
      ],
      "text/plain": [
       "           id    imdb_id  popularity     budget     revenue  \\\n",
       "0      135397  tt0369610   32.985763  150000000  1513528810   \n",
       "1       76341  tt1392190   28.419936  150000000   378436354   \n",
       "2      262500  tt2908446   13.112507  110000000   295238201   \n",
       "3      140607  tt2488496   11.173104  200000000  2068178225   \n",
       "4      168259  tt2820852    9.335014  190000000  1506249360   \n",
       "...       ...        ...         ...        ...         ...   \n",
       "10724     668  tt0064757    1.778746    7000000    81974493   \n",
       "10759     948  tt0077651    1.198849     300000    70000000   \n",
       "10760    8469  tt0077975    1.157930    2700000   141000000   \n",
       "10817   13963  tt0077838    0.064029          0      321952   \n",
       "10819   16214  tt0077696    0.044675          0    78000000   \n",
       "\n",
       "                        original_title  \\\n",
       "0                       Jurassic World   \n",
       "1                   Mad Max: Fury Road   \n",
       "2                            Insurgent   \n",
       "3         Star Wars: The Force Awakens   \n",
       "4                            Furious 7   \n",
       "...                                ...   \n",
       "10724  On Her Majesty's Secret Service   \n",
       "10759                        Halloween   \n",
       "10760                     Animal House   \n",
       "10817                   The Last Waltz   \n",
       "10819                           Hooper   \n",
       "\n",
       "                                                    cast  \\\n",
       "0      Chris Pratt|Bryce Dallas Howard|Irrfan Khan|Vi...   \n",
       "1      Tom Hardy|Charlize Theron|Hugh Keays-Byrne|Nic...   \n",
       "2      Shailene Woodley|Theo James|Kate Winslet|Ansel...   \n",
       "3      Harrison Ford|Mark Hamill|Carrie Fisher|Adam D...   \n",
       "4      Vin Diesel|Paul Walker|Jason Statham|Michelle ...   \n",
       "...                                                  ...   \n",
       "10724  George Lazenby|Diana Rigg|Telly Savalas|Gabrie...   \n",
       "10759  Donald Pleasence|Jamie Lee Curtis|P.J. Soles|N...   \n",
       "10760  John Belushi|Tim Matheson|John Vernon|Verna Bl...   \n",
       "10817  Robbie Robertson|Rick Danko|Levon Helm|Richard...   \n",
       "10819  Burt Reynolds|Robert Klein|Adam West|Jan-Micha...   \n",
       "\n",
       "                                                homepage          director  \\\n",
       "0                          http://www.jurassicworld.com/   Colin Trevorrow   \n",
       "1                            http://www.madmaxmovie.com/     George Miller   \n",
       "2         http://www.thedivergentseries.movie/#insurgent  Robert Schwentke   \n",
       "3      http://www.starwars.com/films/star-wars-episod...       J.J. Abrams   \n",
       "4                               http://www.furious7.com/         James Wan   \n",
       "...                                                  ...               ...   \n",
       "10724  http://www.mgm.com/view/movie/1411/On-Her-Maje...     Peter R. Hunt   \n",
       "10759  http://www.theofficialjohncarpenter.com/hallow...    John Carpenter   \n",
       "10760                        http://www.animalhouse.com/       John Landis   \n",
       "10817  http://www.mgm.com/#/our-titles/1092/The-Last-...   Martin Scorsese   \n",
       "10819         http://en.wikipedia.org/wiki/Hooper_(film)       Hal Needham   \n",
       "\n",
       "                                                 tagline  ...  \\\n",
       "0                                      The park is open.  ...   \n",
       "1                                     What a Lovely Day.  ...   \n",
       "2                             One Choice Can Destroy You  ...   \n",
       "3                          Every generation has a story.  ...   \n",
       "4                                    Vengeance Hits Home  ...   \n",
       "...                                                  ...  ...   \n",
       "10724  Far up! Far out! Far more! James Bond 007 is b...  ...   \n",
       "10759                            The Night HE Came Home!  ...   \n",
       "10760  It was the Deltas against the rules... the rul...  ...   \n",
       "10817  It Started as a Concert. It Became a Celebration.  ...   \n",
       "10819                       The greatest stuntman alive!  ...   \n",
       "\n",
       "                                                overview runtime  \\\n",
       "0      Twenty-two years after the events of Jurassic ...     124   \n",
       "1      An apocalyptic story set in the furthest reach...     120   \n",
       "2      Beatrice Prior must confront her inner demons ...     119   \n",
       "3      Thirty years after defeating the Galactic Empi...     136   \n",
       "4      Deckard Shaw seeks revenge against Dominic Tor...     137   \n",
       "...                                                  ...     ...   \n",
       "10724  James Bond tracks archnemesis Ernst Blofeld to...     142   \n",
       "10759  A psychotic murderer, institutionalized since ...      91   \n",
       "10760  At a 1962 College, Dean Vernon Wormer is deter...     109   \n",
       "10817  Martin Scorsese's rockumentary intertwines foo...     117   \n",
       "10819  Burt Reynolds plays a legendary stunt man know...     107   \n",
       "\n",
       "                                          genres  \\\n",
       "0      Action|Adventure|Science Fiction|Thriller   \n",
       "1      Action|Adventure|Science Fiction|Thriller   \n",
       "2             Adventure|Science Fiction|Thriller   \n",
       "3       Action|Adventure|Science Fiction|Fantasy   \n",
       "4                          Action|Crime|Thriller   \n",
       "...                                          ...   \n",
       "10724                  Adventure|Action|Thriller   \n",
       "10759                            Horror|Thriller   \n",
       "10760                                     Comedy   \n",
       "10817                          Documentary|Music   \n",
       "10819                              Action|Comedy   \n",
       "\n",
       "                                    production_companies release_date  \\\n",
       "0      Universal Studios|Amblin Entertainment|Legenda...       6/9/15   \n",
       "1      Village Roadshow Pictures|Kennedy Miller Produ...      5/13/15   \n",
       "2      Summit Entertainment|Mandeville Films|Red Wago...      3/18/15   \n",
       "3              Lucasfilm|Truenorth Productions|Bad Robot     12/15/15   \n",
       "4      Universal Pictures|Original Film|Media Rights ...       4/1/15   \n",
       "...                                                  ...          ...   \n",
       "10724   Eon Productions|Metro-Goldwyn-Mayer (MGM)|Danjaq     12/12/69   \n",
       "10759  Compass International Pictures|Falcon Internat...     10/25/78   \n",
       "10760  Universal Pictures|Oregon Film Factory|Stage I...      7/27/78   \n",
       "10817                     FM Productions|Last Waltz Inc.       5/1/78   \n",
       "10819                                       Warner Bros.      7/28/78   \n",
       "\n",
       "      vote_count  vote_average  release_year    budget_adj   revenue_adj  \n",
       "0           5562           6.5          2015  1.379999e+08  1.392446e+09  \n",
       "1           6185           7.1          2015  1.379999e+08  3.481613e+08  \n",
       "2           2480           6.3          2015  1.012000e+08  2.716190e+08  \n",
       "3           5292           7.5          2015  1.839999e+08  1.902723e+09  \n",
       "4           2947           7.3          2015  1.747999e+08  1.385749e+09  \n",
       "...          ...           ...           ...           ...           ...  \n",
       "10724        258           6.4          1969  4.160985e+07  4.872780e+08  \n",
       "10759        522           7.3          1978  1.002810e+06  2.339890e+08  \n",
       "10760        230           6.7          1978  9.025292e+06  4.713208e+08  \n",
       "10817         33           8.0          1978  0.000000e+00  1.076189e+06  \n",
       "10819         13           6.0          1978  0.000000e+00  2.607307e+08  \n",
       "\n",
       "[1992 rows x 21 columns]"
      ]
     },
     "execution_count": 6,
     "metadata": {},
     "output_type": "execute_result"
    }
   ],
   "source": [
    "# Delete all records with null, or empty values\n",
    "df.dropna()\n"
   ]
  },
  {
   "cell_type": "markdown",
   "metadata": {},
   "source": [
    "#### Here's a helpful hint from my own analysis when I ran this the first time. This may help shed light on what your data set should look like.\n",
    "\n",
    "#### If I created one record for each the `production_companies` a movie was release under and one record each for `genres`<br>and tried to run calculations, it wouldn't work because for many records, the amount of `production_companies`<br>and `genres` aren't the same, so I'll create 2 dataframes; one w/o a `production_companies` column and one w/o a `genres` columns"
   ]
  },
  {
   "cell_type": "code",
   "execution_count": 7,
   "metadata": {},
   "outputs": [],
   "source": [
    "p = df.drop(['genres'], axis=1)\n",
    "g = df.drop(['production_companies'], axis=1)"
   ]
  },
  {
   "cell_type": "markdown",
   "metadata": {},
   "source": [
    "<a id=\"eda\"></a>\n",
    "## Exploratory Data Analysis\n",
    "\n",
    "> Use Matplotlib to display your data analysis"
   ]
  },
  {
   "cell_type": "markdown",
   "metadata": {},
   "source": [
    "### Which production companies released the most movies in the last 10 years? Display the top 5 production companies."
   ]
  },
  {
   "cell_type": "code",
   "execution_count": 8,
   "metadata": {},
   "outputs": [
    {
     "name": "stdout",
     "output_type": "stream",
     "text": [
      "The Asylum                                                    17\n",
      "Marvel Studios                                                10\n",
      "Pixar Animation Studios                                        8\n",
      "WWE Studios                                                    8\n",
      "DreamWorks Animation                                           7\n",
      "                                                              ..\n",
      "DC Comics|Warner Bros. Animation|DC Entertainment              1\n",
      "WhiteFlame Productions                                         1\n",
      "Warner Bros. Animation|Warner Premiere|DC Entertainment        1\n",
      "Atlas Films                                                    1\n",
      "School Pictures|Parting Shots Media|Logolite Entertainment     1\n",
      "Name: production_companies, Length: 2079, dtype: int64\n"
     ]
    },
    {
     "data": {
      "text/plain": [
       "<AxesSubplot:>"
      ]
     },
     "execution_count": 8,
     "metadata": {},
     "output_type": "execute_result"
    },
    {
     "data": {
      "image/png": "[encoded data removed]",
      "text/plain": [
       "<Figure size 432x288 with 1 Axes>"
      ]
     },
     "metadata": {
      "needs_background": "light"
     },
     "output_type": "display_data"
    }
   ],
   "source": [
    "pc = df.query('release_year > 2011')['production_companies'].value_counts()\n",
    "print(pc)\n",
    "pc.sort_values(ascending=False)[:5].plot(x=\"production_companies\", kind='bar')"
   ]
  },
  {
   "cell_type": "markdown",
   "metadata": {},
   "source": [
    "### What 5 movie genres grossed the highest all-time?"
   ]
  },
  {
   "cell_type": "code",
   "execution_count": 9,
   "metadata": {},
   "outputs": [
    {
     "name": "stdout",
     "output_type": "stream",
     "text": [
      "                                         genres     revenue\n",
      "1386   Action|Adventure|Fantasy|Science Fiction  2781505847\n",
      "3      Action|Adventure|Science Fiction|Fantasy  2068178225\n",
      "5231                     Drama|Romance|Thriller  1845034188\n",
      "4361           Science Fiction|Action|Adventure  1519557910\n",
      "0     Action|Adventure|Science Fiction|Thriller  1513528810\n"
     ]
    },
    {
     "data": {
      "text/plain": [
       "<AxesSubplot:xlabel='genres'>"
      ]
     },
     "execution_count": 9,
     "metadata": {},
     "output_type": "execute_result"
    },
    {
     "data": {
      "image/png": "[encoded data removed]",
      "text/plain": [
       "<Figure size 432x288 with 1 Axes>"
      ]
     },
     "metadata": {
      "needs_background": "light"
     },
     "output_type": "display_data"
    }
   ],
   "source": [
    "top_genre = df.sort_values(by=[\"revenue\"], ascending=False)[:5][[\"genres\", \"revenue\"]]\n",
    "print(top_genre)\n",
    "top_genre.plot(x=\"genres\", kind='bar')\n"
   ]
  },
  {
   "cell_type": "markdown",
   "metadata": {},
   "source": [
    "### Who are the top 5 grossing directors?"
   ]
  },
  {
   "cell_type": "code",
   "execution_count": 10,
   "metadata": {},
   "outputs": [
    {
     "name": "stdout",
     "output_type": "stream",
     "text": [
      "             director     revenue\n",
      "1386    James Cameron  2781505847\n",
      "3         J.J. Abrams  2068178225\n",
      "5231    James Cameron  1845034188\n",
      "4361      Joss Whedon  1519557910\n",
      "0     Colin Trevorrow  1513528810\n"
     ]
    },
    {
     "data": {
      "text/plain": [
       "<AxesSubplot:xlabel='director'>"
      ]
     },
     "execution_count": 10,
     "metadata": {},
     "output_type": "execute_result"
    },
    {
     "data": {
      "image/png": "[encoded data removed]",
      "text/plain": [
       "<Figure size 432x288 with 1 Axes>"
      ]
     },
     "metadata": {
      "needs_background": "light"
     },
     "output_type": "display_data"
    }
   ],
   "source": [
    "d = df.sort_values(by=[\"revenue\"], ascending=False)[:5][[\"director\", \"revenue\"]]\n",
    "print(d)\n",
    "d.plot(x=\"director\", kind='bar')"
   ]
  },
  {
   "cell_type": "markdown",
   "metadata": {},
   "source": [
    "### Compare the revenue of the highest grossing movies of all time."
   ]
  },
  {
   "cell_type": "code",
   "execution_count": 11,
   "metadata": {},
   "outputs": [
    {
     "data": {
      "text/plain": [
       "<AxesSubplot:xlabel='original_title'>"
      ]
     },
     "execution_count": 11,
     "metadata": {},
     "output_type": "execute_result"
    },
    {
     "data": {
      "image/png": "[encoded data removed]",
      "text/plain": [
       "<Figure size 432x288 with 1 Axes>"
      ]
     },
     "metadata": {
      "needs_background": "light"
     },
     "output_type": "display_data"
    }
   ],
   "source": [
    "df[[\"original_title\", \"revenue\"]].sort_values(\"revenue\", ascending=False)[:10].plot(x=\"original_title\", kind='bar')"
   ]
  },
  {
   "cell_type": "markdown",
   "metadata": {},
   "source": [
    "<a id=\"conclusions\"></a>\n",
    "## Conclusions\n",
    "\n",
    "> Using the cell below, write a brief conclusion of what you have found from the anaylsis of the data. The Cell below will allow you to write plan text instead of code."
   ]
  },
  {
   "cell_type": "markdown",
   "metadata": {},
   "source": [
    "Based on my analysis, the top production companies were The Asylum and Marvel Studios in terms of films produced. The top grossing genres were Action and Adventure. The top grossing directors were James Cameron and J.J. Abrams."
   ]
  },
  {
   "cell_type": "code",
   "execution_count": null,
   "metadata": {},
   "outputs": [],
   "source": []
  }
 ],
 "metadata": {
  "kernelspec": {
   "display_name": "Python 3 (ipykernel)",
   "language": "python",
   "name": "python3"
  },
  "language_info": {
   "codemirror_mode": {
    "name": "ipython",
    "version": 3
   },
   "file_extension": ".py",
   "mimetype": "text/x-python",
   "name": "python",
   "nbconvert_exporter": "python",
   "pygments_lexer": "ipython3",
   "version": "3.9.7"
  }
 },
 "nbformat": 4,
 "nbformat_minor": 2
}
